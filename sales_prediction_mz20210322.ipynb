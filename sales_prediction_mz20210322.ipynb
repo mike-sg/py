{
  "nbformat": 4,
  "nbformat_minor": 0,
  "metadata": {
    "colab": {
      "name": "sales_prediction.ipynb",
      "provenance": [],
      "collapsed_sections": [
        "k8Zqt0uuD2qy",
        "e1qLRyZED9en"
      ],
      "toc_visible": true,
      "machine_shape": "hm",
      "include_colab_link": true
    },
    "kernelspec": {
      "name": "python3",
      "display_name": "Python 3"
    },
    "accelerator": "TPU"
  },
  "cells": [
    {
      "cell_type": "markdown",
      "metadata": {
        "id": "view-in-github",
        "colab_type": "text"
      },
      "source": [
        "<a href=\"https://colab.research.google.com/github/mike-sg/py/blob/main/sales_prediction_mz20210322.ipynb\" target=\"_parent\"><img src=\"https://colab.research.google.com/assets/colab-badge.svg\" alt=\"Open In Colab\"/></a>"
      ]
    },
    {
      "cell_type": "code",
      "metadata": {
        "id": "7xEOcp9yYTY0"
      },
      "source": [
        "import pandas as pd\n",
        "import numpy as np"
      ],
      "execution_count": null,
      "outputs": []
    },
    {
      "cell_type": "markdown",
      "metadata": {
        "id": "4hOhtajyHF-A"
      },
      "source": [
        "#Step 1: Data Prep and PreProcessing"
      ]
    },
    {
      "cell_type": "markdown",
      "metadata": {
        "id": "auGCLhNwDGgO"
      },
      "source": [
        "##Data Creation"
      ]
    },
    {
      "cell_type": "markdown",
      "metadata": {
        "id": "QqzG7RcROeNi"
      },
      "source": [
        "### Inject data from alicloud"
      ]
    },
    {
      "cell_type": "code",
      "metadata": {
        "id": "JVrdWyppRBMe"
      },
      "source": [
        "!pip install pyodps[full]\n"
      ],
      "execution_count": null,
      "outputs": []
    },
    {
      "cell_type": "code",
      "metadata": {
        "id": "KKhxt_d-Opbb"
      },
      "source": [
        "from odps.tunnel import TableTunnel\n",
        "from odps import ODPS\n",
        "\n",
        "ACCESS_ID = 'LTAI4G7pzAvDzbvq3aFLTbkS'\n",
        "ACCESS_KEY = '1G6hVeJxFqywNpbjNv03GiGvdrgL3v'\n",
        "PROJECT = 'cks_big_data'\n",
        "END_POINT = 'http://service.ap-southeast-1.maxcompute.aliyun.com/api'\n",
        "o = ODPS(ACCESS_ID, ACCESS_KEY, PROJECT, endpoint=END_POINT)\n",
        "df1 = o.get_table('cks_big_data.ds_dws_training_data').to_df().to_pandas()\n"
      ],
      "execution_count": null,
      "outputs": []
    },
    {
      "cell_type": "code",
      "metadata": {
        "colab": {
          "base_uri": "https://localhost:8080/",
          "height": 643
        },
        "id": "CvCNVquiSiA0",
        "outputId": "2e66de50-1291-48b4-915c-1bd319f419ab"
      },
      "source": [
        "df1"
      ],
      "execution_count": null,
      "outputs": [
        {
          "output_type": "execute_result",
          "data": {
            "text/html": [
              "<div>\n",
              "<style scoped>\n",
              "    .dataframe tbody tr th:only-of-type {\n",
              "        vertical-align: middle;\n",
              "    }\n",
              "\n",
              "    .dataframe tbody tr th {\n",
              "        vertical-align: top;\n",
              "    }\n",
              "\n",
              "    .dataframe thead th {\n",
              "        text-align: right;\n",
              "    }\n",
              "</style>\n",
              "<table border=\"1\" class=\"dataframe\">\n",
              "  <thead>\n",
              "    <tr style=\"text-align: right;\">\n",
              "      <th></th>\n",
              "      <th>country</th>\n",
              "      <th>channel</th>\n",
              "      <th>brand</th>\n",
              "      <th>launch</th>\n",
              "      <th>product_line</th>\n",
              "      <th>product_department</th>\n",
              "      <th>product_class</th>\n",
              "      <th>product_code</th>\n",
              "      <th>product_dsc</th>\n",
              "      <th>sku_barcode</th>\n",
              "      <th>...</th>\n",
              "      <th>actual_sold_qty</th>\n",
              "      <th>forecast_qty1</th>\n",
              "      <th>forecast_qty2</th>\n",
              "      <th>forecast_qty3</th>\n",
              "      <th>forecast_qty4</th>\n",
              "      <th>forecast_qty5</th>\n",
              "      <th>forecast_qty6</th>\n",
              "      <th>forecast_qty7</th>\n",
              "      <th>forecast_qty8</th>\n",
              "      <th>forecast_qty9</th>\n",
              "    </tr>\n",
              "  </thead>\n",
              "  <tbody>\n",
              "    <tr>\n",
              "      <th>0</th>\n",
              "      <td>HONG KONG</td>\n",
              "      <td>Retail</td>\n",
              "      <td>CK</td>\n",
              "      <td>Fall 2018</td>\n",
              "      <td>CHARLES &amp; KEITH</td>\n",
              "      <td>Ladies' Sunglass</td>\n",
              "      <td>NA</td>\n",
              "      <td>CK3-31280321</td>\n",
              "      <td>Ladies Sunglass</td>\n",
              "      <td>1002905907230</td>\n",
              "      <td>...</td>\n",
              "      <td>8</td>\n",
              "      <td>0</td>\n",
              "      <td>0</td>\n",
              "      <td>0</td>\n",
              "      <td>0</td>\n",
              "      <td>0</td>\n",
              "      <td>0</td>\n",
              "      <td>0</td>\n",
              "      <td>0</td>\n",
              "      <td>0</td>\n",
              "    </tr>\n",
              "    <tr>\n",
              "      <th>1</th>\n",
              "      <td>HONG KONG</td>\n",
              "      <td>Retail</td>\n",
              "      <td>CK</td>\n",
              "      <td>Fall 2019</td>\n",
              "      <td>CHARLES &amp; KEITH</td>\n",
              "      <td>Kids Footwear</td>\n",
              "      <td>Covered</td>\n",
              "      <td>CK9-91700009</td>\n",
              "      <td>Kids Footwear</td>\n",
              "      <td>1003351901476</td>\n",
              "      <td>...</td>\n",
              "      <td>2</td>\n",
              "      <td>0</td>\n",
              "      <td>0</td>\n",
              "      <td>0</td>\n",
              "      <td>0</td>\n",
              "      <td>0</td>\n",
              "      <td>0</td>\n",
              "      <td>0</td>\n",
              "      <td>0</td>\n",
              "      <td>0</td>\n",
              "    </tr>\n",
              "    <tr>\n",
              "      <th>2</th>\n",
              "      <td>HONG KONG</td>\n",
              "      <td>Retail</td>\n",
              "      <td>CK</td>\n",
              "      <td>SNBN Fall 2019</td>\n",
              "      <td>CHARLES &amp; KEITH</td>\n",
              "      <td>Ladies Footwear</td>\n",
              "      <td>Covered</td>\n",
              "      <td>CK1-70380624-1</td>\n",
              "      <td>Ladies Footwear</td>\n",
              "      <td>1003423335048</td>\n",
              "      <td>...</td>\n",
              "      <td>29</td>\n",
              "      <td>0</td>\n",
              "      <td>0</td>\n",
              "      <td>0</td>\n",
              "      <td>0</td>\n",
              "      <td>0</td>\n",
              "      <td>0</td>\n",
              "      <td>0</td>\n",
              "      <td>0</td>\n",
              "      <td>0</td>\n",
              "    </tr>\n",
              "    <tr>\n",
              "      <th>3</th>\n",
              "      <td>HONG KONG</td>\n",
              "      <td>Retail</td>\n",
              "      <td>CK</td>\n",
              "      <td>Spring 2019</td>\n",
              "      <td>CHARLES &amp; KEITH</td>\n",
              "      <td>Ladies' Footwear</td>\n",
              "      <td>Covered</td>\n",
              "      <td>CK1-70380708-A</td>\n",
              "      <td>Ladies Footwear</td>\n",
              "      <td>1003135101061</td>\n",
              "      <td>...</td>\n",
              "      <td>5</td>\n",
              "      <td>0</td>\n",
              "      <td>0</td>\n",
              "      <td>0</td>\n",
              "      <td>0</td>\n",
              "      <td>0</td>\n",
              "      <td>0</td>\n",
              "      <td>0</td>\n",
              "      <td>0</td>\n",
              "      <td>0</td>\n",
              "    </tr>\n",
              "    <tr>\n",
              "      <th>4</th>\n",
              "      <td>HONG KONG</td>\n",
              "      <td>Retail</td>\n",
              "      <td>CK</td>\n",
              "      <td>Spring 2021</td>\n",
              "      <td>CHARLES &amp; KEITH</td>\n",
              "      <td>Ladies Footwear</td>\n",
              "      <td>Covered Open-back</td>\n",
              "      <td>CK1-70900259</td>\n",
              "      <td>Ladies Footwear</td>\n",
              "      <td>1004024701027</td>\n",
              "      <td>...</td>\n",
              "      <td>1</td>\n",
              "      <td>0</td>\n",
              "      <td>0</td>\n",
              "      <td>0</td>\n",
              "      <td>0</td>\n",
              "      <td>0</td>\n",
              "      <td>0</td>\n",
              "      <td>0</td>\n",
              "      <td>0</td>\n",
              "      <td>0</td>\n",
              "    </tr>\n",
              "    <tr>\n",
              "      <th>...</th>\n",
              "      <td>...</td>\n",
              "      <td>...</td>\n",
              "      <td>...</td>\n",
              "      <td>...</td>\n",
              "      <td>...</td>\n",
              "      <td>...</td>\n",
              "      <td>...</td>\n",
              "      <td>...</td>\n",
              "      <td>...</td>\n",
              "      <td>...</td>\n",
              "      <td>...</td>\n",
              "      <td>...</td>\n",
              "      <td>...</td>\n",
              "      <td>...</td>\n",
              "      <td>...</td>\n",
              "      <td>...</td>\n",
              "      <td>...</td>\n",
              "      <td>...</td>\n",
              "      <td>...</td>\n",
              "      <td>...</td>\n",
              "      <td>...</td>\n",
              "    </tr>\n",
              "    <tr>\n",
              "      <th>219113</th>\n",
              "      <td>TAIWAN</td>\n",
              "      <td>Retail</td>\n",
              "      <td>CK</td>\n",
              "      <td>Winter 2019</td>\n",
              "      <td>CHARLES &amp; KEITH</td>\n",
              "      <td>Ladies Footwear</td>\n",
              "      <td>Covered</td>\n",
              "      <td>CK1-70900156</td>\n",
              "      <td>Ladies Footwear</td>\n",
              "      <td>1003448435082</td>\n",
              "      <td>...</td>\n",
              "      <td>1</td>\n",
              "      <td>0</td>\n",
              "      <td>0</td>\n",
              "      <td>0</td>\n",
              "      <td>0</td>\n",
              "      <td>0</td>\n",
              "      <td>0</td>\n",
              "      <td>0</td>\n",
              "      <td>0</td>\n",
              "      <td>0</td>\n",
              "    </tr>\n",
              "    <tr>\n",
              "      <th>219114</th>\n",
              "      <td>TAIWAN</td>\n",
              "      <td>Retail</td>\n",
              "      <td>CK</td>\n",
              "      <td>Winter 2019</td>\n",
              "      <td>CHARLES &amp; KEITH</td>\n",
              "      <td>Ladies' Bag</td>\n",
              "      <td>NA</td>\n",
              "      <td>CK2-71190008-2</td>\n",
              "      <td>Ladies Bag</td>\n",
              "      <td>1003540393211</td>\n",
              "      <td>...</td>\n",
              "      <td>42</td>\n",
              "      <td>0</td>\n",
              "      <td>0</td>\n",
              "      <td>0</td>\n",
              "      <td>0</td>\n",
              "      <td>0</td>\n",
              "      <td>0</td>\n",
              "      <td>0</td>\n",
              "      <td>0</td>\n",
              "      <td>0</td>\n",
              "    </tr>\n",
              "    <tr>\n",
              "      <th>219115</th>\n",
              "      <td>TAIWAN</td>\n",
              "      <td>Retail</td>\n",
              "      <td>CK</td>\n",
              "      <td>Winter 2020</td>\n",
              "      <td>CHARLES &amp; KEITH</td>\n",
              "      <td>Ladies Footwear</td>\n",
              "      <td>Covered</td>\n",
              "      <td>CK1-90900085</td>\n",
              "      <td>Ladies Footwear</td>\n",
              "      <td>1003917101029</td>\n",
              "      <td>...</td>\n",
              "      <td>2</td>\n",
              "      <td>0</td>\n",
              "      <td>0</td>\n",
              "      <td>0</td>\n",
              "      <td>0</td>\n",
              "      <td>0</td>\n",
              "      <td>0</td>\n",
              "      <td>0</td>\n",
              "      <td>0</td>\n",
              "      <td>0</td>\n",
              "    </tr>\n",
              "    <tr>\n",
              "      <th>219116</th>\n",
              "      <td>TAIWAN</td>\n",
              "      <td>Retail</td>\n",
              "      <td>CK</td>\n",
              "      <td>Winter 2020</td>\n",
              "      <td>CHARLES &amp; KEITH</td>\n",
              "      <td>Ladies Footwear</td>\n",
              "      <td>Covered</td>\n",
              "      <td>CK1-90920081</td>\n",
              "      <td>Ladies Footwear</td>\n",
              "      <td>1003917301078</td>\n",
              "      <td>...</td>\n",
              "      <td>4</td>\n",
              "      <td>0</td>\n",
              "      <td>0</td>\n",
              "      <td>0</td>\n",
              "      <td>0</td>\n",
              "      <td>0</td>\n",
              "      <td>0</td>\n",
              "      <td>0</td>\n",
              "      <td>0</td>\n",
              "      <td>0</td>\n",
              "    </tr>\n",
              "    <tr>\n",
              "      <th>219117</th>\n",
              "      <td>TAIWAN</td>\n",
              "      <td>Retail</td>\n",
              "      <td>CK</td>\n",
              "      <td>Winter JIT 2020</td>\n",
              "      <td>CHARLES &amp; KEITH</td>\n",
              "      <td>Ladies Footwear</td>\n",
              "      <td>Covered</td>\n",
              "      <td>CK1-70380828</td>\n",
              "      <td>Ladies Footwear</td>\n",
              "      <td>1003927901053</td>\n",
              "      <td>...</td>\n",
              "      <td>8</td>\n",
              "      <td>0</td>\n",
              "      <td>0</td>\n",
              "      <td>0</td>\n",
              "      <td>0</td>\n",
              "      <td>0</td>\n",
              "      <td>0</td>\n",
              "      <td>0</td>\n",
              "      <td>0</td>\n",
              "      <td>0</td>\n",
              "    </tr>\n",
              "  </tbody>\n",
              "</table>\n",
              "<p>219118 rows × 25 columns</p>\n",
              "</div>"
            ],
            "text/plain": [
              "          country channel brand           launch     product_line  \\\n",
              "0       HONG KONG  Retail    CK        Fall 2018  CHARLES & KEITH   \n",
              "1       HONG KONG  Retail    CK        Fall 2019  CHARLES & KEITH   \n",
              "2       HONG KONG  Retail    CK   SNBN Fall 2019  CHARLES & KEITH   \n",
              "3       HONG KONG  Retail    CK      Spring 2019  CHARLES & KEITH   \n",
              "4       HONG KONG  Retail    CK      Spring 2021  CHARLES & KEITH   \n",
              "...           ...     ...   ...              ...              ...   \n",
              "219113     TAIWAN  Retail    CK      Winter 2019  CHARLES & KEITH   \n",
              "219114     TAIWAN  Retail    CK      Winter 2019  CHARLES & KEITH   \n",
              "219115     TAIWAN  Retail    CK      Winter 2020  CHARLES & KEITH   \n",
              "219116     TAIWAN  Retail    CK      Winter 2020  CHARLES & KEITH   \n",
              "219117     TAIWAN  Retail    CK  Winter JIT 2020  CHARLES & KEITH   \n",
              "\n",
              "       product_department      product_class    product_code      product_dsc  \\\n",
              "0        Ladies' Sunglass                 NA    CK3-31280321  Ladies Sunglass   \n",
              "1           Kids Footwear            Covered    CK9-91700009    Kids Footwear   \n",
              "2         Ladies Footwear            Covered  CK1-70380624-1  Ladies Footwear   \n",
              "3        Ladies' Footwear            Covered  CK1-70380708-A  Ladies Footwear   \n",
              "4         Ladies Footwear  Covered Open-back    CK1-70900259  Ladies Footwear   \n",
              "...                   ...                ...             ...              ...   \n",
              "219113    Ladies Footwear            Covered    CK1-70900156  Ladies Footwear   \n",
              "219114        Ladies' Bag                 NA  CK2-71190008-2       Ladies Bag   \n",
              "219115    Ladies Footwear            Covered    CK1-90900085  Ladies Footwear   \n",
              "219116    Ladies Footwear            Covered    CK1-90920081  Ladies Footwear   \n",
              "219117    Ladies Footwear            Covered    CK1-70380828  Ladies Footwear   \n",
              "\n",
              "          sku_barcode  ... actual_sold_qty forecast_qty1 forecast_qty2  \\\n",
              "0       1002905907230  ...               8             0             0   \n",
              "1       1003351901476  ...               2             0             0   \n",
              "2       1003423335048  ...              29             0             0   \n",
              "3       1003135101061  ...               5             0             0   \n",
              "4       1004024701027  ...               1             0             0   \n",
              "...               ...  ...             ...           ...           ...   \n",
              "219113  1003448435082  ...               1             0             0   \n",
              "219114  1003540393211  ...              42             0             0   \n",
              "219115  1003917101029  ...               2             0             0   \n",
              "219116  1003917301078  ...               4             0             0   \n",
              "219117  1003927901053  ...               8             0             0   \n",
              "\n",
              "        forecast_qty3  forecast_qty4  forecast_qty5  forecast_qty6  \\\n",
              "0                   0              0              0              0   \n",
              "1                   0              0              0              0   \n",
              "2                   0              0              0              0   \n",
              "3                   0              0              0              0   \n",
              "4                   0              0              0              0   \n",
              "...               ...            ...            ...            ...   \n",
              "219113              0              0              0              0   \n",
              "219114              0              0              0              0   \n",
              "219115              0              0              0              0   \n",
              "219116              0              0              0              0   \n",
              "219117              0              0              0              0   \n",
              "\n",
              "        forecast_qty7  forecast_qty8  forecast_qty9  \n",
              "0                   0              0              0  \n",
              "1                   0              0              0  \n",
              "2                   0              0              0  \n",
              "3                   0              0              0  \n",
              "4                   0              0              0  \n",
              "...               ...            ...            ...  \n",
              "219113              0              0              0  \n",
              "219114              0              0              0  \n",
              "219115              0              0              0  \n",
              "219116              0              0              0  \n",
              "219117              0              0              0  \n",
              "\n",
              "[219118 rows x 25 columns]"
            ]
          },
          "metadata": {
            "tags": []
          },
          "execution_count": 4
        }
      ]
    },
    {
      "cell_type": "code",
      "metadata": {
        "id": "Cocvv8dKkv6N"
      },
      "source": [
        "# Splitting information from launch to year and collection\n",
        "# df1['year'] = df1['launch'].str.split().str[-1]"
      ],
      "execution_count": null,
      "outputs": []
    },
    {
      "cell_type": "code",
      "metadata": {
        "id": "t0mtGPlQNq1I"
      },
      "source": [
        "df1['year'] = df1['launch'].str.extract('(\\d{4})')\n"
      ],
      "execution_count": null,
      "outputs": []
    },
    {
      "cell_type": "code",
      "metadata": {
        "id": "ZBT5pEUmJHjX"
      },
      "source": [
        "import string\n",
        "df1['Collection'] = df1['launch'].str.replace('(\\d{4}|\\-\\d|\\d\\-)', '').str.strip()"
      ],
      "execution_count": null,
      "outputs": []
    },
    {
      "cell_type": "code",
      "metadata": {
        "colab": {
          "base_uri": "https://localhost:8080/"
        },
        "id": "4EQZ1UojSBRT",
        "outputId": "9b2c863b-9e28-4cdd-9aed-0844408bc7f8"
      },
      "source": [
        "df1['Collection'].unique()"
      ],
      "execution_count": null,
      "outputs": [
        {
          "output_type": "execute_result",
          "data": {
            "text/plain": [
              "array(['Fall', 'SNBN Fall', 'Spring', 'Summer', 'Summer JIT', 'Winter',\n",
              "       'SNBN Spring', 'Winter JIT', 'SeeNowBuyNow', 'Spring  Ramadan',\n",
              "       'Basic', 'Pedro shoecare', 'Autumn', 'SNBN Winter', 'SNBN Summer',\n",
              "       'Disney Spring', 'See Now Buy Now', 'Launch', 'Undefined',\n",
              "       'Fall JIT', '', 'Summer  Ramadan', 'CK Shoecare'], dtype=object)"
            ]
          },
          "metadata": {
            "tags": []
          },
          "execution_count": 8
        }
      ]
    },
    {
      "cell_type": "code",
      "metadata": {
        "id": "Zwr75B864hH1"
      },
      "source": [
        "x = df1.groupby(['product_department', 'year', 'Collection']).agg({'actual_sold_qty' : sum}).reset_index()"
      ],
      "execution_count": null,
      "outputs": []
    },
    {
      "cell_type": "code",
      "metadata": {
        "colab": {
          "base_uri": "https://localhost:8080/",
          "height": 207
        },
        "id": "aH333pU07GTw",
        "outputId": "1416f4e4-72c0-4bb9-a082-fa7216b955ed"
      },
      "source": [
        "x[x['product_department']=='Ladies Footwear'][x['Collection']=='Winter'][x['year']>='2017']"
      ],
      "execution_count": null,
      "outputs": [
        {
          "output_type": "stream",
          "text": [
            "/usr/local/lib/python3.7/dist-packages/ipykernel_launcher.py:1: UserWarning: Boolean Series key will be reindexed to match DataFrame index.\n",
            "  \"\"\"Entry point for launching an IPython kernel.\n"
          ],
          "name": "stderr"
        },
        {
          "output_type": "execute_result",
          "data": {
            "text/html": [
              "<div>\n",
              "<style scoped>\n",
              "    .dataframe tbody tr th:only-of-type {\n",
              "        vertical-align: middle;\n",
              "    }\n",
              "\n",
              "    .dataframe tbody tr th {\n",
              "        vertical-align: top;\n",
              "    }\n",
              "\n",
              "    .dataframe thead th {\n",
              "        text-align: right;\n",
              "    }\n",
              "</style>\n",
              "<table border=\"1\" class=\"dataframe\">\n",
              "  <thead>\n",
              "    <tr style=\"text-align: right;\">\n",
              "      <th></th>\n",
              "      <th>product_department</th>\n",
              "      <th>year</th>\n",
              "      <th>Collection</th>\n",
              "      <th>actual_sold_qty</th>\n",
              "    </tr>\n",
              "  </thead>\n",
              "  <tbody>\n",
              "    <tr>\n",
              "      <th>207</th>\n",
              "      <td>Ladies Footwear</td>\n",
              "      <td>2017</td>\n",
              "      <td>Winter</td>\n",
              "      <td>154571</td>\n",
              "    </tr>\n",
              "    <tr>\n",
              "      <th>218</th>\n",
              "      <td>Ladies Footwear</td>\n",
              "      <td>2018</td>\n",
              "      <td>Winter</td>\n",
              "      <td>203830</td>\n",
              "    </tr>\n",
              "    <tr>\n",
              "      <th>229</th>\n",
              "      <td>Ladies Footwear</td>\n",
              "      <td>2019</td>\n",
              "      <td>Winter</td>\n",
              "      <td>222798</td>\n",
              "    </tr>\n",
              "    <tr>\n",
              "      <th>241</th>\n",
              "      <td>Ladies Footwear</td>\n",
              "      <td>2020</td>\n",
              "      <td>Winter</td>\n",
              "      <td>67490</td>\n",
              "    </tr>\n",
              "  </tbody>\n",
              "</table>\n",
              "</div>"
            ],
            "text/plain": [
              "    product_department  year Collection  actual_sold_qty\n",
              "207    Ladies Footwear  2017     Winter           154571\n",
              "218    Ladies Footwear  2018     Winter           203830\n",
              "229    Ladies Footwear  2019     Winter           222798\n",
              "241    Ladies Footwear  2020     Winter            67490"
            ]
          },
          "metadata": {
            "tags": []
          },
          "execution_count": 13
        }
      ]
    },
    {
      "cell_type": "markdown",
      "metadata": {
        "id": "NiQUq4hPDWJP"
      },
      "source": [
        "\n",
        "##Cleaning"
      ]
    },
    {
      "cell_type": "code",
      "metadata": {
        "id": "uioqePqoZKXO"
      },
      "source": [
        "# Removing the product description punctuation marks because there are too many similar descriptions with additional punctuation marks\n",
        "df1['product_department'] = df1['product_department'].str.replace('[^\\w\\s]','')"
      ],
      "execution_count": null,
      "outputs": []
    },
    {
      "cell_type": "code",
      "metadata": {
        "id": "p9O2SZnsaGwM"
      },
      "source": [
        "df1 = df1[(df1['product_line']=='CHARLES & KEITH') & (df1['brand']=='CK')] ## Add brand = ck"
      ],
      "execution_count": null,
      "outputs": []
    },
    {
      "cell_type": "code",
      "metadata": {
        "id": "ho3rnX3eaiD7"
      },
      "source": [
        "#df1 = df1[(df1['Collection']=='Summer') | (df1['Collection']=='Winter') | (df1['Collection']=='Spring') | (df1['Collection']=='Autumn')]"
      ],
      "execution_count": null,
      "outputs": []
    },
    {
      "cell_type": "code",
      "metadata": {
        "id": "U0wGMwCuh-ti"
      },
      "source": [
        "df1 = df1[(df1['year']>='2017')&(df1['year']<='2020')]"
      ],
      "execution_count": null,
      "outputs": []
    },
    {
      "cell_type": "code",
      "metadata": {
        "colab": {
          "base_uri": "https://localhost:8080/"
        },
        "id": "TG72NISFb_nE",
        "outputId": "6b88d7ab-7a57-42fe-ed84-7277e332bafe"
      },
      "source": [
        "df1.isna().sum()"
      ],
      "execution_count": null,
      "outputs": [
        {
          "output_type": "execute_result",
          "data": {
            "text/plain": [
              "country               0\n",
              "channel               0\n",
              "brand                 0\n",
              "launch                0\n",
              "product_line          0\n",
              "product_department    0\n",
              "product_class         5\n",
              "product_code          0\n",
              "product_dsc           0\n",
              "sku_barcode           0\n",
              "sap_batch             0\n",
              "product_color         0\n",
              "product_size          0\n",
              "has_repeat            0\n",
              "has_markdown          0\n",
              "actual_sold_qty       0\n",
              "forecast_qty1         0\n",
              "forecast_qty2         0\n",
              "forecast_qty3         0\n",
              "forecast_qty4         0\n",
              "forecast_qty5         0\n",
              "forecast_qty6         0\n",
              "forecast_qty7         0\n",
              "forecast_qty8         0\n",
              "forecast_qty9         0\n",
              "year                  0\n",
              "Collection            0\n",
              "dtype: int64"
            ]
          },
          "metadata": {
            "tags": []
          },
          "execution_count": 16
        }
      ]
    },
    {
      "cell_type": "code",
      "metadata": {
        "colab": {
          "base_uri": "https://localhost:8080/"
        },
        "id": "3hOehQuAnRSI",
        "outputId": "61542faa-4c92-430d-9525-0cf657c90cd0"
      },
      "source": [
        "df1.isnull().sum()"
      ],
      "execution_count": null,
      "outputs": [
        {
          "output_type": "execute_result",
          "data": {
            "text/plain": [
              "country               0\n",
              "channel               0\n",
              "brand                 0\n",
              "launch                0\n",
              "product_line          0\n",
              "product_department    0\n",
              "product_class         5\n",
              "product_code          0\n",
              "product_dsc           0\n",
              "sku_barcode           0\n",
              "sap_batch             0\n",
              "product_color         0\n",
              "product_size          0\n",
              "has_repeat            0\n",
              "has_markdown          0\n",
              "actual_sold_qty       0\n",
              "forecast_qty1         0\n",
              "forecast_qty2         0\n",
              "forecast_qty3         0\n",
              "forecast_qty4         0\n",
              "forecast_qty5         0\n",
              "forecast_qty6         0\n",
              "forecast_qty7         0\n",
              "forecast_qty8         0\n",
              "forecast_qty9         0\n",
              "year                  0\n",
              "Collection            0\n",
              "dtype: int64"
            ]
          },
          "metadata": {
            "tags": []
          },
          "execution_count": 17
        }
      ]
    },
    {
      "cell_type": "code",
      "metadata": {
        "id": "iD55xXEHhR6Y"
      },
      "source": [
        "df1 = df1.dropna()"
      ],
      "execution_count": null,
      "outputs": []
    },
    {
      "cell_type": "code",
      "metadata": {
        "colab": {
          "base_uri": "https://localhost:8080/"
        },
        "id": "6K68ogsHbQ8w",
        "outputId": "f7e8f46c-48c6-4bbe-c97c-8074d3e338bf"
      },
      "source": [
        "df1.shape\n"
      ],
      "execution_count": null,
      "outputs": [
        {
          "output_type": "execute_result",
          "data": {
            "text/plain": [
              "(160051, 27)"
            ]
          },
          "metadata": {
            "tags": []
          },
          "execution_count": 19
        }
      ]
    },
    {
      "cell_type": "code",
      "metadata": {
        "id": "YXtTIv_PcwUg"
      },
      "source": [
        "df = df1[['country', 'product_department', 'product_class', 'launch', 'product_color', 'product_size', 'year', 'Collection', 'has_repeat', 'has_markdown', 'actual_sold_qty']] # Add launch"
      ],
      "execution_count": null,
      "outputs": []
    },
    {
      "cell_type": "markdown",
      "metadata": {
        "id": "jNXwGji1Df9b"
      },
      "source": [
        "## Exploratory Data Analysis"
      ]
    },
    {
      "cell_type": "code",
      "metadata": {
        "id": "I-QNK1rE8zYk"
      },
      "source": [
        "import seaborn as sns"
      ],
      "execution_count": null,
      "outputs": []
    },
    {
      "cell_type": "code",
      "metadata": {
        "colab": {
          "base_uri": "https://localhost:8080/",
          "height": 391
        },
        "id": "AxKqb2wQ82Qh",
        "outputId": "49316cac-8e92-4788-bfa0-d8ebb596db2c"
      },
      "source": [
        "sns.pairplot(df[['country', 'product_class', 'product_department', 'product_color', 'product_size', 'year', 'Collection', 'has_markdown','actual_sold_qty']], diag_kind='kde')"
      ],
      "execution_count": null,
      "outputs": [
        {
          "output_type": "execute_result",
          "data": {
            "text/plain": [
              "<seaborn.axisgrid.PairGrid at 0x7f1c5eb3cd50>"
            ]
          },
          "metadata": {
            "tags": []
          },
          "execution_count": 118
        },
        {
          "output_type": "display_data",
          "data": {
            "image/png": "[encoded data removed]",
            "text/plain": [
              "<Figure size 360x360 with 6 Axes>"
            ]
          },
          "metadata": {
            "tags": [],
            "needs_background": "light"
          }
        }
      ]
    },
    {
      "cell_type": "markdown",
      "metadata": {
        "id": "X9pHBs_jDmcP"
      },
      "source": [
        "## Feature Engineering\n",
        "\n"
      ]
    },
    {
      "cell_type": "markdown",
      "metadata": {
        "id": "k8Zqt0uuD2qy"
      },
      "source": [
        "### Label Encoding"
      ]
    },
    {
      "cell_type": "code",
      "metadata": {
        "colab": {
          "base_uri": "https://localhost:8080/"
        },
        "id": "xhfinUoD9c6E",
        "outputId": "95a8183c-e1d8-4082-a26f-d222b0b2139d"
      },
      "source": [
        "df.dtypes"
      ],
      "execution_count": null,
      "outputs": [
        {
          "output_type": "execute_result",
          "data": {
            "text/plain": [
              "country               object\n",
              "product_department    object\n",
              "launch                object\n",
              "product_color         object\n",
              "product_size          object\n",
              "year                  object\n",
              "Collection            object\n",
              "has_repeat              bool\n",
              "has_markdown            bool\n",
              "actual_sold_qty        int64\n",
              "dtype: object"
            ]
          },
          "metadata": {
            "tags": []
          },
          "execution_count": 33
        }
      ]
    },
    {
      "cell_type": "code",
      "metadata": {
        "id": "WWp0Ou3sjGHY"
      },
      "source": [
        "pd.options.mode.chained_assignment = None"
      ],
      "execution_count": null,
      "outputs": []
    },
    {
      "cell_type": "code",
      "metadata": {
        "id": "soGcwbMI9osx"
      },
      "source": [
        "df[\"country\"] = df[\"country\"].astype('category')\n",
        "df[\"product_class\"] = df[\"product_class\"].astype('category')\n",
        "df[\"product_dsc\"] = df[\"product_dsc\"].astype('category')\n",
        "df[\"product_color\"] = df[\"product_color\"].astype('category')\n",
        "df[\"product_size\"] = df[\"product_size\"].astype('category')\n",
        "df[\"year\"] = df[\"year\"].astype('category')\n",
        "df[\"Collection\"] = df[\"Collection\"].astype('category')\n",
        "\n",
        "\n"
      ],
      "execution_count": null,
      "outputs": []
    },
    {
      "cell_type": "code",
      "metadata": {
        "id": "exOm7Wy8-_7v"
      },
      "source": [
        "df[\"country\"] = df[\"country\"].cat.codes\n",
        "df[\"product_class\"] = df[\"product_class\"].cat.codes\n",
        "df[\"product_dsc\"] = df[\"product_dsc\"].cat.codes\n",
        "df[\"product_color\"] = df[\"product_color\"].cat.codes\n",
        "df[\"product_size\"] = df[\"product_size\"].cat.codes\n",
        "df[\"year\"] = df[\"year\"].cat.codes\n",
        "df[\"Collection\"] = df[\"Collection\"].cat.codes"
      ],
      "execution_count": null,
      "outputs": []
    },
    {
      "cell_type": "code",
      "metadata": {
        "colab": {
          "base_uri": "https://localhost:8080/",
          "height": 204
        },
        "id": "r5s5bosw_eQ8",
        "outputId": "a1c60e46-4e41-4644-9a58-c6fba0ec50e5"
      },
      "source": [
        "df.head()"
      ],
      "execution_count": null,
      "outputs": [
        {
          "output_type": "execute_result",
          "data": {
            "text/html": [
              "<div>\n",
              "<style scoped>\n",
              "    .dataframe tbody tr th:only-of-type {\n",
              "        vertical-align: middle;\n",
              "    }\n",
              "\n",
              "    .dataframe tbody tr th {\n",
              "        vertical-align: top;\n",
              "    }\n",
              "\n",
              "    .dataframe thead th {\n",
              "        text-align: right;\n",
              "    }\n",
              "</style>\n",
              "<table border=\"1\" class=\"dataframe\">\n",
              "  <thead>\n",
              "    <tr style=\"text-align: right;\">\n",
              "      <th></th>\n",
              "      <th>country</th>\n",
              "      <th>product_class</th>\n",
              "      <th>product_dsc</th>\n",
              "      <th>product_color</th>\n",
              "      <th>product_size</th>\n",
              "      <th>year</th>\n",
              "      <th>Collection</th>\n",
              "      <th>has_markdown</th>\n",
              "      <th>actual_sold_qty</th>\n",
              "    </tr>\n",
              "  </thead>\n",
              "  <tbody>\n",
              "    <tr>\n",
              "      <th>3</th>\n",
              "      <td>0</td>\n",
              "      <td>16</td>\n",
              "      <td>17</td>\n",
              "      <td>7</td>\n",
              "      <td>23</td>\n",
              "      <td>4</td>\n",
              "      <td>1</td>\n",
              "      <td>True</td>\n",
              "      <td>5</td>\n",
              "    </tr>\n",
              "    <tr>\n",
              "      <th>4</th>\n",
              "      <td>0</td>\n",
              "      <td>17</td>\n",
              "      <td>17</td>\n",
              "      <td>7</td>\n",
              "      <td>19</td>\n",
              "      <td>6</td>\n",
              "      <td>1</td>\n",
              "      <td>False</td>\n",
              "      <td>1</td>\n",
              "    </tr>\n",
              "    <tr>\n",
              "      <th>5</th>\n",
              "      <td>0</td>\n",
              "      <td>16</td>\n",
              "      <td>17</td>\n",
              "      <td>51</td>\n",
              "      <td>23</td>\n",
              "      <td>5</td>\n",
              "      <td>2</td>\n",
              "      <td>True</td>\n",
              "      <td>9</td>\n",
              "    </tr>\n",
              "    <tr>\n",
              "      <th>7</th>\n",
              "      <td>0</td>\n",
              "      <td>36</td>\n",
              "      <td>12</td>\n",
              "      <td>72</td>\n",
              "      <td>32</td>\n",
              "      <td>3</td>\n",
              "      <td>3</td>\n",
              "      <td>True</td>\n",
              "      <td>155</td>\n",
              "    </tr>\n",
              "    <tr>\n",
              "      <th>8</th>\n",
              "      <td>0</td>\n",
              "      <td>16</td>\n",
              "      <td>17</td>\n",
              "      <td>62</td>\n",
              "      <td>23</td>\n",
              "      <td>3</td>\n",
              "      <td>3</td>\n",
              "      <td>False</td>\n",
              "      <td>2</td>\n",
              "    </tr>\n",
              "  </tbody>\n",
              "</table>\n",
              "</div>"
            ],
            "text/plain": [
              "   country  product_class  product_dsc  product_color  product_size  year  \\\n",
              "3        0             16           17              7            23     4   \n",
              "4        0             17           17              7            19     6   \n",
              "5        0             16           17             51            23     5   \n",
              "7        0             36           12             72            32     3   \n",
              "8        0             16           17             62            23     3   \n",
              "\n",
              "   Collection  has_markdown  actual_sold_qty  \n",
              "3           1          True                5  \n",
              "4           1         False                1  \n",
              "5           2          True                9  \n",
              "7           3          True              155  \n",
              "8           3         False                2  "
            ]
          },
          "metadata": {
            "tags": []
          },
          "execution_count": 45
        }
      ]
    },
    {
      "cell_type": "markdown",
      "metadata": {
        "id": "e1qLRyZED9en"
      },
      "source": [
        "### Feature Weights"
      ]
    },
    {
      "cell_type": "code",
      "metadata": {
        "colab": {
          "base_uri": "https://localhost:8080/",
          "height": 401
        },
        "id": "AroG20_s1RVS",
        "outputId": "7de3ac30-233c-47fc-817c-c1d9d16b6c9d"
      },
      "source": [
        "from sklearn.linear_model import LinearRegression\n",
        "from matplotlib import pyplot\n",
        "# define dataset\n",
        "X, y = df.drop('actual_sold_qty',\n",
        "  axis='columns'), df['actual_sold_qty']\n",
        "\n",
        "# define the model\n",
        "model = LinearRegression()\n",
        "# fit the model\n",
        "model.fit(X, y)\n",
        "# get importance\n",
        "importance = model.coef_\n",
        "# summarize feature importance\n",
        "for i,v in enumerate(importance):\n",
        "\tprint('Feature: %s, Score: %.5f' % (X.columns[i],v))\n",
        "# plot feature importance\n",
        "pyplot.bar([x for x in range(len(importance))], importance)\n",
        "pyplot.show()"
      ],
      "execution_count": null,
      "outputs": [
        {
          "output_type": "stream",
          "text": [
            "Feature: country, Score: 1.42364\n",
            "Feature: product_class, Score: 1.43129\n",
            "Feature: product_dsc, Score: -1.45345\n",
            "Feature: product_color, Score: -0.16475\n",
            "Feature: product_size, Score: 7.63531\n",
            "Feature: year, Score: -12.35795\n",
            "Feature: Collection, Score: -6.43628\n",
            "Feature: has_markdown, Score: 34.94829\n"
          ],
          "name": "stdout"
        },
        {
          "output_type": "display_data",
          "data": {
            "image/png": "[encoded data removed]",
            "text/plain": [
              "<Figure size 432x288 with 1 Axes>"
            ]
          },
          "metadata": {
            "tags": [],
            "needs_background": "light"
          }
        }
      ]
    },
    {
      "cell_type": "code",
      "metadata": {
        "colab": {
          "base_uri": "https://localhost:8080/",
          "height": 401
        },
        "id": "2bFF7klRf1b7",
        "outputId": "340fa100-58a0-48f4-e2be-5053a397a7c7"
      },
      "source": [
        "from sklearn.linear_model import Ridge\n",
        "from matplotlib import pyplot\n",
        "# define dataset\n",
        "X, y = df.drop('actual_sold_qty',\n",
        "  axis='columns'), df['actual_sold_qty']\n",
        "\n",
        "# define the model\n",
        "model = Ridge(alpha=0.01) \n",
        "\n",
        "# fit the model\n",
        "model.fit(X, y)\n",
        "# get importance\n",
        "importance = model.coef_\n",
        "# summarize feature importance\n",
        "for i,v in enumerate(importance):\n",
        "\tprint('Feature: %s, Score: %.5f' % (X.columns[i],v))\n",
        "# plot feature importance\n",
        "pyplot.bar([x for x in range(len(importance))], importance)\n",
        "pyplot.show()"
      ],
      "execution_count": null,
      "outputs": [
        {
          "output_type": "stream",
          "text": [
            "Feature: country, Score: 1.42364\n",
            "Feature: product_class, Score: 1.43129\n",
            "Feature: product_dsc, Score: -1.45345\n",
            "Feature: product_color, Score: -0.16475\n",
            "Feature: product_size, Score: 7.63531\n",
            "Feature: year, Score: -12.35795\n",
            "Feature: Collection, Score: -6.43628\n",
            "Feature: has_markdown, Score: 34.94826\n"
          ],
          "name": "stdout"
        },
        {
          "output_type": "display_data",
          "data": {
            "image/png": "[encoded data removed]",
            "text/plain": [
              "<Figure size 432x288 with 1 Axes>"
            ]
          },
          "metadata": {
            "tags": [],
            "needs_background": "light"
          }
        }
      ]
    },
    {
      "cell_type": "markdown",
      "metadata": {
        "id": "62X8JOLADEEm"
      },
      "source": [
        "### One Hot Encoding"
      ]
    },
    {
      "cell_type": "code",
      "metadata": {
        "id": "f29oSZUV9EfB"
      },
      "source": [
        "df = pd.get_dummies(df, columns=['country', 'product_department', 'product_class', 'launch', 'product_color', 'product_size', 'year', 'Collection'])\n"
      ],
      "execution_count": null,
      "outputs": []
    },
    {
      "cell_type": "code",
      "metadata": {
        "colab": {
          "base_uri": "https://localhost:8080/"
        },
        "id": "iVoetxQrAKwe",
        "outputId": "fe76e7ec-3c27-495a-e8e5-8dd3f23e5a44"
      },
      "source": [
        "df.shape"
      ],
      "execution_count": null,
      "outputs": [
        {
          "output_type": "execute_result",
          "data": {
            "text/plain": [
              "(160051, 283)"
            ]
          },
          "metadata": {
            "tags": []
          },
          "execution_count": 22
        }
      ]
    },
    {
      "cell_type": "code",
      "metadata": {
        "id": "d1kRwQgneHBe"
      },
      "source": [
        "df_max_scaled = df.copy() \n",
        "  \n",
        "# apply normalization techniques on Column 1 \n",
        "column = 'actual_sold_qty'\n",
        "df_max_scaled[column] = df_max_scaled[column] /df_max_scaled[column].abs().max() "
      ],
      "execution_count": null,
      "outputs": []
    },
    {
      "cell_type": "markdown",
      "metadata": {
        "id": "Ezo5X_PJFE9y"
      },
      "source": [
        "### Feature Weights"
      ]
    },
    {
      "cell_type": "code",
      "metadata": {
        "id": "STDv9CklAkRq",
        "colab": {
          "base_uri": "https://localhost:8080/",
          "height": 276
        },
        "outputId": "cf306fc5-e281-4fe0-c4d7-a36f90866dc6"
      },
      "source": [
        "from sklearn.linear_model import LinearRegression\n",
        "\n",
        "from matplotlib import pyplot\n",
        "# define dataset\n",
        "X, y = df.drop('actual_sold_qty',\n",
        "  axis='columns'), df['actual_sold_qty']\n",
        "\n",
        "# define the model\n",
        "model = LinearRegression()\n",
        "# fit the model\n",
        "model.fit(X, y)\n",
        "# get importance\n",
        "importance = model.coef_\n",
        "# summarize feature importance\n",
        "# for i,v in enumerate(importance):\n",
        "# \tprint('Feature: %s, Score: %.5f' % (X.columns[i],v))\n",
        "# plot feature importance\n",
        "pyplot.bar([x for x in range(len(importance))], importance)\n",
        "pyplot.show()"
      ],
      "execution_count": null,
      "outputs": [
        {
          "output_type": "display_data",
          "data": {
            "image/png": "[encoded data removed]",
            "text/plain": [
              "<Figure size 432x288 with 1 Axes>"
            ]
          },
          "metadata": {
            "tags": [],
            "needs_background": "light"
          }
        }
      ]
    },
    {
      "cell_type": "code",
      "metadata": {
        "colab": {
          "base_uri": "https://localhost:8080/",
          "height": 1000
        },
        "id": "MibetFDYfitx",
        "outputId": "2fb2a463-15fc-495b-ffbc-d66b44019b4d"
      },
      "source": [
        "from sklearn.linear_model import Ridge\n",
        "from matplotlib import pyplot\n",
        "# define dataset\n",
        "X, y = df.drop('actual_sold_qty',\n",
        "  axis='columns'), df['actual_sold_qty']\n",
        "\n",
        "# define the model\n",
        "model = Ridge(alpha=0.01) \n",
        "\n",
        "# fit the model\n",
        "model.fit(X, y)\n",
        "# get importance\n",
        "importance = model.coef_\n",
        "# summarize feature importance\n",
        "for i,v in enumerate(importance):\n",
        "\tprint('Feature: %s, Score: %.5f' % (X.columns[i],v))\n",
        "# plot feature importance\n",
        "pyplot.bar([x for x in range(len(importance))], importance)\n",
        "pyplot.show()"
      ],
      "execution_count": null,
      "outputs": [
        {
          "output_type": "stream",
          "text": [
            "Feature: has_repeat, Score: 0.00000\n",
            "Feature: has_markdown, Score: -5.37360\n",
            "Feature: country_HONG KONG, Score: -20.82850\n",
            "Feature: country_JAPAN, Score: -14.42909\n",
            "Feature: country_MACAU, Score: -34.79593\n",
            "Feature: country_SINGAPORE, Score: 100.60468\n",
            "Feature: country_SOUTH KOREA, Score: -14.84188\n",
            "Feature: country_TAIWAN, Score: -15.70928\n",
            "Feature: product_department_Bag Straps, Score: -27.30007\n",
            "Feature: product_department_CSR Merchandise, Score: -638.27221\n",
            "Feature: product_department_GWP Merchandise, Score: 1045.59526\n",
            "Feature: product_department_Key Chain, Score: -229.79240\n",
            "Feature: product_department_Kids Bags, Score: -499.57256\n",
            "Feature: product_department_Kids Footwear, Score: -296.48340\n",
            "Feature: product_department_Ladies Accessories, Score: -442.25137\n",
            "Feature: product_department_Ladies Bag, Score: -452.91412\n",
            "Feature: product_department_Ladies Bag Strap, Score: -43.57665\n",
            "Feature: product_department_Ladies Belt, Score: -641.90052\n",
            "Feature: product_department_Ladies Costume Jewellery, Score: 674.06840\n",
            "Feature: product_department_Ladies Footwear, Score: -253.93861\n",
            "Feature: product_department_Ladies Hats, Score: -4.37312\n",
            "Feature: product_department_Ladies Sunglass, Score: -490.81808\n",
            "Feature: product_department_Ladies Tops, Score: -85.89454\n",
            "Feature: product_department_Miscellaneous Items, Score: -533.89636\n",
            "Feature: product_department_Packaging Material, Score: 2994.66788\n",
            "Feature: product_department_Pet Accessories, Score: 625.61452\n",
            "Feature: product_department_Phone Cases, Score: -261.87357\n",
            "Feature: product_department_Small Leather Goods, Score: -437.08846\n",
            "Feature: product_class_Aviator, Score: 473.05987\n",
            "Feature: product_class_Bag Charm, Score: 65.14288\n",
            "Feature: product_class_Bag Patches, Score: 363.23298\n",
            "Feature: product_class_Bag Straps, Score: -28.90868\n",
            "Feature: product_class_Bangles, Score: -690.45015\n",
            "Feature: product_class_Beret, Score: -4.37312\n",
            "Feature: product_class_Bow Collar, Score: -822.50521\n",
            "Feature: product_class_Bowling, Score: 384.35022\n",
            "Feature: product_class_Brooch, Score: -733.80753\n",
            "Feature: product_class_Butterfly, Score: 483.79655\n",
            "Feature: product_class_Card Holder, Score: 775.29269\n",
            "Feature: product_class_Cat-eye, Score: 429.26486\n",
            "Feature: product_class_Chain Link, Score: -713.17872\n",
            "Feature: product_class_Charm, Score: -724.38997\n",
            "Feature: product_class_Choker (14\"-16\"), Score: -701.63099\n",
            "Feature: product_class_Clutch, Score: 588.89110\n",
            "Feature: product_class_Collar (12\"-13\"), Score: -718.79521\n",
            "Feature: product_class_Covered, Score: 213.36259\n",
            "Feature: product_class_Covered Open-back, Score: 208.73986\n",
            "Feature: product_class_Cuff, Score: -712.42110\n",
            "Feature: product_class_Double, Score: -810.38869\n",
            "Feature: product_class_Drop, Score: -711.22027\n",
            "Feature: product_class_Flip-Up Flap, Score: 330.88269\n",
            "Feature: product_class_Hairclips, Score: -710.62476\n",
            "Feature: product_class_Handbag, Score: 550.06543\n",
            "Feature: product_class_Headbands, Score: -716.09353\n",
            "Feature: product_class_Hobo, Score: 439.88335\n",
            "Feature: product_class_Iphone cover, Score: 326.39657\n",
            "Feature: product_class_Key Chain, Score: 227.43590\n",
            "Feature: product_class_Key Pouch, Score: 219.48011\n",
            "Feature: product_class_Leash, Score: -718.43997\n",
            "Feature: product_class_Leather Bracelets, Score: -714.76040\n",
            "Feature: product_class_Low Waist, Score: 484.44272\n",
            "Feature: product_class_Luggage Tag, Score: 831.75812\n",
            "Feature: product_class_Matinee (20\"-24\"), Score: -717.15259\n",
            "Feature: product_class_Mid Waist, Score: 446.16267\n",
            "Feature: product_class_Mini Strap, Score: -27.75014\n",
            "Feature: product_class_NA, Score: 458.51215\n",
            "Feature: product_class_Open Toe, Score: 198.67995\n",
            "Feature: product_class_Opera (28\"-34\"), Score: -708.03742\n",
            "Feature: product_class_Oval, Score: 539.75356\n",
            "Feature: product_class_Passport Holder, Score: 339.81582\n",
            "Feature: product_class_Peep Toe, Score: 186.28324\n",
            "Feature: product_class_Photo Slot, Score: 252.94938\n",
            "Feature: product_class_Platform Covered, Score: 195.71065\n",
            "Feature: product_class_Platform Open Toe, Score: 177.17552\n",
            "Feature: product_class_Platform Peep Toe, Score: 146.77459\n",
            "Feature: product_class_Pouch, Score: 337.49362\n",
            "Feature: product_class_Princess (17\"-19\"), Score: -713.58333\n",
            "Feature: product_class_Rectangular, Score: 617.79585\n",
            "Feature: product_class_Ring, Score: -817.98111\n",
            "Feature: product_class_Round, Score: 442.39681\n",
            "Feature: product_class_Satchel, Score: 700.51680\n",
            "Feature: product_class_Shoulder Bag, Score: 623.48078\n",
            "Feature: product_class_Single, Score: -808.47264\n",
            "Feature: product_class_Sling Bag, Score: 543.53443\n",
            "Feature: product_class_Square, Score: 472.77545\n",
            "Feature: product_class_Stacked, Score: -825.30942\n",
            "Feature: product_class_Strap, Score: -14.21791\n",
            "Feature: product_class_Stud, Score: -713.08327\n",
            "Feature: product_class_T-Shirt, Score: -85.89454\n",
            "Feature: product_class_Tote, Score: 532.42814\n",
            "Feature: product_class_Wallet, Score: 550.06213\n",
            "Feature: product_class_Wayfarer, Score: 490.67181\n",
            "Feature: product_class_Wrap Around Bracelet, Score: -693.82405\n",
            "Feature: product_class_Wristlet, Score: 375.19749\n",
            "Feature: product_class_iPhone Case, Score: 333.64540\n",
            "Feature: launch_Disney Spring 2018, Score: -3.58188\n",
            "Feature: launch_Fall 2017, Score: 10.22423\n",
            "Feature: launch_Fall 2018, Score: 3.95996\n",
            "Feature: launch_Fall 2019, Score: -1.25039\n",
            "Feature: launch_Fall 2020, Score: -7.45984\n",
            "Feature: launch_SNBN Fall 2018, Score: -0.38206\n",
            "Feature: launch_SNBN Fall 2019, Score: 9.73771\n",
            "Feature: launch_SNBN Fall 2020, Score: -9.61413\n",
            "Feature: launch_SNBN Spring 2019, Score: 13.19103\n",
            "Feature: launch_SNBN Spring 2020, Score: -0.29874\n",
            "Feature: launch_SNBN Summer 2019, Score: 7.82158\n",
            "Feature: launch_SNBN Summer 2020, Score: -3.82789\n",
            "Feature: launch_SNBN Winter 2018, Score: -14.53382\n",
            "Feature: launch_SNBN Winter 2019, Score: 8.65416\n",
            "Feature: launch_SNBN Winter 2020, Score: 0.45133\n",
            "Feature: launch_See Now Buy Now 2017, Score: -13.81881\n",
            "Feature: launch_SeeNowBuyNow 2017-1, Score: 16.71538\n",
            "Feature: launch_SeeNowBuyNow 2017-2, Score: 23.10255\n",
            "Feature: launch_SeeNowBuyNow 2018-1, Score: -11.62153\n",
            "Feature: launch_Spring 2017, Score: 19.30298\n",
            "Feature: launch_Spring 2018, Score: -1.89128\n",
            "Feature: launch_Spring 2019, Score: 10.32382\n",
            "Feature: launch_Spring 2019 Ramadan, Score: -19.35544\n",
            "Feature: launch_Spring 2020, Score: -9.01588\n",
            "Feature: launch_Spring 2020 Ramadan, Score: 22.82870\n",
            "Feature: launch_Summer 2017, Score: 29.30467\n",
            "Feature: launch_Summer 2017 Ramadan, Score: -141.27566\n",
            "Feature: launch_Summer 2018, Score: -11.01901\n",
            "Feature: launch_Summer 2018 Ramadan, Score: 87.94168\n",
            "Feature: launch_Summer 2019, Score: 2.90871\n",
            "Feature: launch_Summer 2020, Score: -10.12975\n",
            "Feature: launch_Summer JIT 2017, Score: -1.38693\n",
            "Feature: launch_Summer JIT 2018, Score: -15.00916\n",
            "Feature: launch_Summer JIT 2019, Score: -2.92327\n",
            "Feature: launch_Summer JIT 2020, Score: 19.07255\n",
            "Feature: launch_Winter 2017, Score: 24.58248\n",
            "Feature: launch_Winter 2018, Score: -0.09839\n",
            "Feature: launch_Winter 2019, Score: -8.35293\n",
            "Feature: launch_Winter 2020, Score: -17.20903\n",
            "Feature: launch_Winter JIT 2017, Score: 5.24956\n",
            "Feature: launch_Winter JIT 2018, Score: -11.89062\n",
            "Feature: launch_Winter JIT 2019, Score: -9.24080\n",
            "Feature: launch_Winter JIT 2020, Score: 9.81415\n",
            "Feature: product_color_Animal Print Black, Score: 33.04042\n",
            "Feature: product_color_Animal Print Blue, Score: -16.17949\n",
            "Feature: product_color_Animal Print Brown, Score: 4.29060\n",
            "Feature: product_color_Animal Print Green, Score: -28.61782\n",
            "Feature: product_color_Animal Print Natural, Score: 8.54788\n",
            "Feature: product_color_Animal Print Red, Score: 53.02768\n",
            "Feature: product_color_Beige, Score: 9.64707\n",
            "Feature: product_color_Berry, Score: -131.28693\n",
            "Feature: product_color_Black, Score: 31.00342\n",
            "Feature: product_color_Black Textured, Score: 22.98523\n",
            "Feature: product_color_Black2, Score: -6.39343\n",
            "Feature: product_color_Blue, Score: 3.97263\n",
            "Feature: product_color_Blush, Score: 9.44299\n",
            "Feature: product_color_Brick, Score: 44.49159\n",
            "Feature: product_color_Bronze, Score: -6.86269\n",
            "Feature: product_color_Brown, Score: 23.04508\n",
            "Feature: product_color_Brush Gold, Score: 19.18730\n",
            "Feature: product_color_Burgundy, Score: 10.38784\n",
            "Feature: product_color_Camel, Score: 28.46483\n",
            "Feature: product_color_Caramel, Score: 33.26202\n",
            "Feature: product_color_Chalk, Score: 33.76397\n",
            "Feature: product_color_Champagne, Score: 23.50581\n",
            "Feature: product_color_Charcoal, Score: 36.14921\n",
            "Feature: product_color_Clay, Score: 75.99951\n",
            "Feature: product_color_Cognac, Score: 17.62465\n",
            "Feature: product_color_Copper, Score: 14.36278\n",
            "Feature: product_color_Coral, Score: -312.91355\n",
            "Feature: product_color_Coral Pink, Score: -2.79343\n",
            "Feature: product_color_Cream, Score: 26.63843\n",
            "Feature: product_color_Crimson, Score: -126.46501\n",
            "Feature: product_color_Dark Blue, Score: 19.79260\n",
            "Feature: product_color_Dark Brown, Score: 21.09238\n",
            "Feature: product_color_Dark Green, Score: 19.39728\n",
            "Feature: product_color_Dark Grey, Score: 27.15680\n",
            "Feature: product_color_Denim Blue, Score: -55.73628\n",
            "Feature: product_color_Dusty Blue, Score: -188.85580\n",
            "Feature: product_color_Fuchsia, Score: -6.55837\n",
            "Feature: product_color_Gold, Score: 2.67186\n",
            "Feature: product_color_Green, Score: 6.14396\n",
            "Feature: product_color_Grey, Score: 7.57430\n",
            "Feature: product_color_Gun Metal, Score: 15.14815\n",
            "Feature: product_color_Ivory, Score: 19.41191\n",
            "Feature: product_color_Khaki, Score: 1.47207\n",
            "Feature: product_color_Light Blue, Score: 7.27160\n",
            "Feature: product_color_Light Brown, Score: -3.39265\n",
            "Feature: product_color_Light Gold, Score: -91.51901\n",
            "Feature: product_color_Light Grey, Score: 8.23647\n",
            "Feature: product_color_Light Pink, Score: 44.38814\n",
            "Feature: product_color_Lilac, Score: 10.10247\n",
            "Feature: product_color_Lilac Grey, Score: -38.01717\n",
            "Feature: product_color_Lime, Score: -46.57194\n",
            "Feature: product_color_Maroon, Score: 47.34117\n",
            "Feature: product_color_Mauve, Score: 50.49814\n",
            "Feature: product_color_Military Green, Score: 35.87858\n",
            "Feature: product_color_Mint, Score: -134.44098\n",
            "Feature: product_color_Mint Blue, Score: -51.86122\n",
            "Feature: product_color_Mint Green, Score: 4.73727\n",
            "Feature: product_color_Moss, Score: 119.21626\n",
            "Feature: product_color_Multi, Score: 9.94938\n",
            "Feature: product_color_Mustard, Score: 8.60340\n",
            "Feature: product_color_Navy, Score: 34.93425\n",
            "Feature: product_color_Neon Orange, Score: -130.40413\n",
            "Feature: product_color_Neon Yellow, Score: -101.22428\n",
            "Feature: product_color_Nude, Score: 19.00872\n",
            "Feature: product_color_Ocean, Score: -46.65713\n",
            "Feature: product_color_Off White, Score: 11.01036\n",
            "Feature: product_color_Olive, Score: 21.16278\n",
            "Feature: product_color_Orange, Score: -13.95011\n",
            "Feature: product_color_Peach, Score: -24.15623\n",
            "Feature: product_color_Peacock, Score: 115.12761\n",
            "Feature: product_color_Pearl, Score: 67.72876\n",
            "Feature: product_color_Pewter, Score: 10.66150\n",
            "Feature: product_color_Pink, Score: 2.53365\n",
            "Feature: product_color_Prune, Score: 46.35063\n",
            "Feature: product_color_Purple, Score: 9.68373\n",
            "Feature: product_color_Red, Score: 10.97751\n",
            "Feature: product_color_Rose, Score: -98.23754\n",
            "Feature: product_color_Rose Gold, Score: 16.82518\n",
            "Feature: product_color_Sage Green, Score: 0.93740\n",
            "Feature: product_color_Sand, Score: -7.86449\n",
            "Feature: product_color_Silver, Score: 2.01383\n",
            "Feature: product_color_Slate Blue, Score: 56.69058\n",
            "Feature: product_color_Steel Blue, Score: 43.84447\n",
            "Feature: product_color_T. Shell, Score: 29.49793\n",
            "Feature: product_color_Tan, Score: 5.10299\n",
            "Feature: product_color_Taupe, Score: 27.56019\n",
            "Feature: product_color_Teal, Score: 5.02713\n",
            "Feature: product_color_Turquoise, Score: 8.11469\n",
            "Feature: product_color_Ultra-Matte Black, Score: 107.30776\n",
            "Feature: product_color_White, Score: 11.47391\n",
            "Feature: product_color_White2, Score: -40.88734\n",
            "Feature: product_color_Yellow, Score: -0.65370\n",
            "Feature: product_size_16X, Score: -23.07663\n",
            "Feature: product_size_17X, Score: 6.20378\n",
            "Feature: product_size_18X, Score: 9.90086\n",
            "Feature: product_size_19X, Score: 22.15468\n",
            "Feature: product_size_20X, Score: -56.87391\n",
            "Feature: product_size_21X, Score: -32.77814\n",
            "Feature: product_size_22X, Score: -18.36276\n",
            "Feature: product_size_23X, Score: -10.28308\n",
            "Feature: product_size_24X, Score: -11.10840\n",
            "Feature: product_size_25X, Score: -7.31108\n",
            "Feature: product_size_26X, Score: -1.33141\n",
            "Feature: product_size_27X, Score: 0.60499\n",
            "Feature: product_size_28X, Score: 1.11594\n",
            "Feature: product_size_29X, Score: -0.33258\n",
            "Feature: product_size_30X, Score: -10.31234\n",
            "Feature: product_size_31X, Score: -20.98690\n",
            "Feature: product_size_32X, Score: -27.89676\n",
            "Feature: product_size_33X, Score: -60.10607\n",
            "Feature: product_size_34, Score: -56.01696\n",
            "Feature: product_size_35, Score: -26.98738\n",
            "Feature: product_size_36, Score: -10.24918\n",
            "Feature: product_size_37, Score: -6.77286\n",
            "Feature: product_size_38, Score: -16.14485\n",
            "Feature: product_size_39, Score: -30.14250\n",
            "Feature: product_size_40, Score: -53.66915\n",
            "Feature: product_size_41, Score: -109.65935\n",
            "Feature: product_size_Extra Extra Small, Score: 199.73220\n",
            "Feature: product_size_Extra Large, Score: 32.31248\n",
            "Feature: product_size_Extra Small, Score: 139.77948\n",
            "Feature: product_size_Large, Score: 66.67759\n",
            "Feature: product_size_Medium, Score: 66.56350\n",
            "Feature: product_size_Regular, Score: -25.61205\n",
            "Feature: product_size_Small, Score: 70.96883\n",
            "Feature: year_2017, Score: -27.99955\n",
            "Feature: year_2018, Score: 21.87389\n",
            "Feature: year_2019, Score: 11.51419\n",
            "Feature: year_2020, Score: -5.38854\n",
            "Feature: Collection_Disney Spring, Score: -3.58188\n",
            "Feature: Collection_Fall, Score: 5.47396\n",
            "Feature: Collection_SNBN Fall, Score: -0.25849\n",
            "Feature: Collection_SNBN Spring, Score: 12.89230\n",
            "Feature: Collection_SNBN Summer, Score: 3.99370\n",
            "Feature: Collection_SNBN Winter, Score: -5.42834\n",
            "Feature: Collection_See Now Buy Now, Score: -13.81881\n",
            "Feature: Collection_SeeNowBuyNow, Score: 28.19640\n",
            "Feature: Collection_Spring, Score: 18.71964\n",
            "Feature: Collection_Spring  Ramadan, Score: 3.47326\n",
            "Feature: Collection_Summer, Score: 11.06462\n",
            "Feature: Collection_Summer  Ramadan, Score: -53.33398\n",
            "Feature: Collection_Summer JIT, Score: -0.24682\n",
            "Feature: Collection_Winter, Score: -1.07787\n",
            "Feature: Collection_Winter JIT, Score: -6.06771\n"
          ],
          "name": "stdout"
        },
        {
          "output_type": "display_data",
          "data": {
            "image/png": "[encoded data removed]",
            "text/plain": [
              "<Figure size 432x288 with 1 Axes>"
            ]
          },
          "metadata": {
            "tags": [],
            "needs_background": "light"
          }
        }
      ]
    },
    {
      "cell_type": "markdown",
      "metadata": {
        "id": "DLfSZ7yIF2Sq"
      },
      "source": [
        "# Step 2: Model Selection"
      ]
    },
    {
      "cell_type": "code",
      "metadata": {
        "id": "O2-trMu_kpyH"
      },
      "source": [
        "from sklearn.model_selection import train_test_split"
      ],
      "execution_count": null,
      "outputs": []
    },
    {
      "cell_type": "code",
      "metadata": {
        "id": "tgi7EFftkZFh"
      },
      "source": [
        "X_train, X_test, y_train, y_test = train_test_split(X, y, test_size=0.2, random_state=42)"
      ],
      "execution_count": null,
      "outputs": []
    },
    {
      "cell_type": "code",
      "metadata": {
        "colab": {
          "base_uri": "https://localhost:8080/"
        },
        "id": "B4xFy_Rwk0LG",
        "outputId": "11528e7f-f656-4338-bf55-6fae18698d7f"
      },
      "source": [
        "X_train.shape, X_test.shape"
      ],
      "execution_count": null,
      "outputs": [
        {
          "output_type": "execute_result",
          "data": {
            "text/plain": [
              "((128040, 282), (32011, 282))"
            ]
          },
          "metadata": {
            "tags": []
          },
          "execution_count": 30
        }
      ]
    },
    {
      "cell_type": "markdown",
      "metadata": {
        "id": "a3rKYtzEF_Ey"
      },
      "source": [
        "## Linear Regression\n"
      ]
    },
    {
      "cell_type": "code",
      "metadata": {
        "id": "2CUdSg80kwSH"
      },
      "source": [
        "rr = Ridge(alpha=0.01) "
      ],
      "execution_count": null,
      "outputs": []
    },
    {
      "cell_type": "code",
      "metadata": {
        "id": "QD2M7dZ6lJcX"
      },
      "source": [
        "reg = rr.fit(X_train, y_train)"
      ],
      "execution_count": null,
      "outputs": []
    },
    {
      "cell_type": "code",
      "metadata": {
        "id": "HJfb0DKXmnn5"
      },
      "source": [
        "y_predicted = rr.predict(X_test)"
      ],
      "execution_count": null,
      "outputs": []
    },
    {
      "cell_type": "code",
      "metadata": {
        "colab": {
          "base_uri": "https://localhost:8080/"
        },
        "id": "LTS6u0PXmrp3",
        "outputId": "6b8fad73-3450-41d5-ff04-b724e7c15879"
      },
      "source": [
        "model.score(X_test, y_test)"
      ],
      "execution_count": null,
      "outputs": [
        {
          "output_type": "execute_result",
          "data": {
            "text/plain": [
              "0.1707238393403544"
            ]
          },
          "metadata": {
            "tags": []
          },
          "execution_count": 40
        }
      ]
    },
    {
      "cell_type": "code",
      "metadata": {
        "colab": {
          "base_uri": "https://localhost:8080/"
        },
        "id": "vqelGLL5oIz_",
        "outputId": "568e8fee-29cc-4d8f-bf35-d989f8248cdc"
      },
      "source": [
        "import numpy as np\n",
        "from sklearn.metrics import mean_squared_error\n",
        "np.sqrt(mean_squared_error(y_test, y_predicted))"
      ],
      "execution_count": null,
      "outputs": [
        {
          "output_type": "execute_result",
          "data": {
            "text/plain": [
              "205.47824402226348"
            ]
          },
          "metadata": {
            "tags": []
          },
          "execution_count": 41
        }
      ]
    },
    {
      "cell_type": "code",
      "metadata": {
        "colab": {
          "base_uri": "https://localhost:8080/"
        },
        "id": "WQ5jwsivgorz",
        "outputId": "d167aa73-bb48-4cd3-bb87-70e1fe463458"
      },
      "source": [
        "y_predicted"
      ],
      "execution_count": null,
      "outputs": [
        {
          "output_type": "execute_result",
          "data": {
            "text/plain": [
              "array([104.6571454 ,  83.58262853,  29.5239926 , ...,  90.07198607,\n",
              "         4.42767627, 171.66403402])"
            ]
          },
          "metadata": {
            "tags": []
          },
          "execution_count": 30
        }
      ]
    },
    {
      "cell_type": "code",
      "metadata": {
        "colab": {
          "base_uri": "https://localhost:8080/",
          "height": 611
        },
        "id": "yObyA1PZsZJA",
        "outputId": "23d7bc8b-5b6a-4e81-cf60-18ce23219ac9"
      },
      "source": [
        "from matplotlib import pyplot as plt\n",
        "\n",
        "plt.figure(figsize=(10,10))\n",
        "plt.scatter(y_test, y_predicted, c='crimson')\n",
        "\n",
        "\n",
        "p1 = max(max(y_predicted), max(y_test))\n",
        "p2 = min(min(y_predicted), min(y_test))\n",
        "plt.plot([p1, p2], [p1, p2], 'b-')\n",
        "plt.xlabel('True Values', fontsize=15)\n",
        "plt.ylabel('Predictions', fontsize=15)\n",
        "plt.axis('equal')\n",
        "plt.show()"
      ],
      "execution_count": null,
      "outputs": [
        {
          "output_type": "display_data",
          "data": {
            "image/png": "[encoded data removed]",
            "text/plain": [
              "<Figure size 720x720 with 1 Axes>"
            ]
          },
          "metadata": {
            "tags": [],
            "needs_background": "light"
          }
        }
      ]
    },
    {
      "cell_type": "markdown",
      "metadata": {
        "id": "qgAaJj_BGFu5"
      },
      "source": [
        "## Polynomial Regression"
      ]
    },
    {
      "cell_type": "code",
      "metadata": {
        "id": "-IU8IcWZojS8",
        "colab": {
          "base_uri": "https://localhost:8080/",
          "height": 197
        },
        "outputId": "97ff37be-79cb-44f6-bbb9-dba3e55d340c"
      },
      "source": [
        "from sklearn.preprocessing import PolynomialFeatures, StandardScaler\n",
        "from sklearn.pipeline import make_pipeline\n",
        "from sklearn.linear_model import LinearRegression\n",
        "degree=3\n",
        "polyreg=make_pipeline(PolynomialFeatures(degree),LinearRegression())\n",
        "polyreg.fit(X_train[:10000],y_train[:10000])"
      ],
      "execution_count": null,
      "outputs": [
        {
          "output_type": "error",
          "ename": "NameError",
          "evalue": "ignored",
          "traceback": [
            "\u001b[0;31m---------------------------------------------------------------------------\u001b[0m",
            "\u001b[0;31mNameError\u001b[0m                                 Traceback (most recent call last)",
            "\u001b[0;32m<ipython-input-3-b2786bd98ce3>\u001b[0m in \u001b[0;36m<module>\u001b[0;34m()\u001b[0m\n\u001b[1;32m      4\u001b[0m \u001b[0mdegree\u001b[0m\u001b[0;34m=\u001b[0m\u001b[0;36m3\u001b[0m\u001b[0;34m\u001b[0m\u001b[0;34m\u001b[0m\u001b[0m\n\u001b[1;32m      5\u001b[0m \u001b[0mpolyreg\u001b[0m\u001b[0;34m=\u001b[0m\u001b[0mmake_pipeline\u001b[0m\u001b[0;34m(\u001b[0m\u001b[0mPolynomialFeatures\u001b[0m\u001b[0;34m(\u001b[0m\u001b[0mdegree\u001b[0m\u001b[0;34m)\u001b[0m\u001b[0;34m,\u001b[0m\u001b[0mLinearRegression\u001b[0m\u001b[0;34m(\u001b[0m\u001b[0;34m)\u001b[0m\u001b[0;34m)\u001b[0m\u001b[0;34m\u001b[0m\u001b[0;34m\u001b[0m\u001b[0m\n\u001b[0;32m----> 6\u001b[0;31m \u001b[0mpolyreg\u001b[0m\u001b[0;34m.\u001b[0m\u001b[0mfit\u001b[0m\u001b[0;34m(\u001b[0m\u001b[0mX_train\u001b[0m\u001b[0;34m[\u001b[0m\u001b[0;34m:\u001b[0m\u001b[0;36m10000\u001b[0m\u001b[0;34m]\u001b[0m\u001b[0;34m,\u001b[0m\u001b[0my_train\u001b[0m\u001b[0;34m[\u001b[0m\u001b[0;34m:\u001b[0m\u001b[0;36m10000\u001b[0m\u001b[0;34m]\u001b[0m\u001b[0;34m)\u001b[0m\u001b[0;34m\u001b[0m\u001b[0;34m\u001b[0m\u001b[0m\n\u001b[0m",
            "\u001b[0;31mNameError\u001b[0m: name 'X_train' is not defined"
          ]
        }
      ]
    },
    {
      "cell_type": "code",
      "metadata": {
        "id": "zfj_qhhDt4O2"
      },
      "source": [
        "y_predicted_poly = polyreg.predict(X_test)"
      ],
      "execution_count": null,
      "outputs": []
    },
    {
      "cell_type": "code",
      "metadata": {
        "id": "lo1GU-ryvRHv"
      },
      "source": [
        "np.sqrt(mean_squared_error(y_test, y_predicted_poly))"
      ],
      "execution_count": null,
      "outputs": []
    },
    {
      "cell_type": "code",
      "metadata": {
        "id": "iISsHz4qpoYz"
      },
      "source": [
        "from matplotlib import pyplot as plt\n",
        "\n",
        "plt.figure(figsize=(10,10))\n",
        "plt.scatter(y_test, y_predicted_poly, c='crimson')\n",
        "\n",
        "\n",
        "p1 = max(max(y_predicted_poly), max(y_test))\n",
        "p2 = min(min(y_predicted_poly), min(y_test))\n",
        "plt.plot([p1, p2], [p1, p2], 'b-')\n",
        "plt.xlabel('True Values', fontsize=15)\n",
        "plt.ylabel('Predictions', fontsize=15)\n",
        "plt.axis('equal')\n",
        "plt.show()"
      ],
      "execution_count": null,
      "outputs": []
    },
    {
      "cell_type": "markdown",
      "metadata": {
        "id": "30eweHd2GMyP"
      },
      "source": [
        "## Neural Net"
      ]
    },
    {
      "cell_type": "code",
      "metadata": {
        "id": "dQs1xFr03Iye"
      },
      "source": [
        "import keras\n",
        "import keras.utils\n",
        "from keras import utils as np_utils\n",
        "from keras.models import Sequential\n",
        "from keras.layers import Dense, LeakyReLU\n",
        "from keras.wrappers.scikit_learn import KerasRegressor\n",
        "from sklearn.model_selection import cross_val_score\n",
        "from sklearn.model_selection import KFold\n",
        "from sklearn.preprocessing import StandardScaler\n",
        "from sklearn.pipeline import Pipeline\n",
        "from keras import regularizers\n",
        "from keras.layers.core import Dropout\n",
        "\n"
      ],
      "execution_count": null,
      "outputs": []
    },
    {
      "cell_type": "code",
      "metadata": {
        "id": "ZkLk5-Gz3SV2"
      },
      "source": [
        "def baseline_model(l1=100, l2=50):\n",
        "\t  # create model\n",
        "  model = Sequential()\n",
        "  model = Sequential()\n",
        "  model.add(Dense(l1, input_dim=feature_size, kernel_initializer='normal', activation='relu'))\n",
        "  model.add(Dense(l2, input_dim=l1, kernel_initializer='normal', activation='relu'))\n",
        "  model.add(Dense(1, activation='relu'))\n",
        "  # Compile model\n",
        "  #optimizer = keras.optimizers.SGD(learning_rate=0.01, momentum=0.9)\n",
        "\n",
        "  model.compile(loss='mean_absolute_error', optimizer='adamax')\n",
        "  return model"
      ],
      "execution_count": null,
      "outputs": []
    },
    {
      "cell_type": "code",
      "metadata": {
        "id": "JDIR3Lf94EBm",
        "colab": {
          "base_uri": "https://localhost:8080/",
          "height": 197
        },
        "outputId": "98affb7b-5e24-4c92-f5c7-e45769944090"
      },
      "source": [
        "X_train = np.asarray(X_train).astype('float32')\n",
        "X_test = np.asarray(X_test).astype('float32')\n",
        "feature_size = X_train.shape[1]"
      ],
      "execution_count": null,
      "outputs": [
        {
          "output_type": "error",
          "ename": "NameError",
          "evalue": "ignored",
          "traceback": [
            "\u001b[0;31m---------------------------------------------------------------------------\u001b[0m",
            "\u001b[0;31mNameError\u001b[0m                                 Traceback (most recent call last)",
            "\u001b[0;32m<ipython-input-6-396e9058f29e>\u001b[0m in \u001b[0;36m<module>\u001b[0;34m()\u001b[0m\n\u001b[0;32m----> 1\u001b[0;31m \u001b[0mX_train\u001b[0m \u001b[0;34m=\u001b[0m \u001b[0mnp\u001b[0m\u001b[0;34m.\u001b[0m\u001b[0masarray\u001b[0m\u001b[0;34m(\u001b[0m\u001b[0mX_train\u001b[0m\u001b[0;34m)\u001b[0m\u001b[0;34m.\u001b[0m\u001b[0mastype\u001b[0m\u001b[0;34m(\u001b[0m\u001b[0;34m'float32'\u001b[0m\u001b[0;34m)\u001b[0m\u001b[0;34m\u001b[0m\u001b[0;34m\u001b[0m\u001b[0m\n\u001b[0m\u001b[1;32m      2\u001b[0m \u001b[0mX_test\u001b[0m \u001b[0;34m=\u001b[0m \u001b[0mnp\u001b[0m\u001b[0;34m.\u001b[0m\u001b[0masarray\u001b[0m\u001b[0;34m(\u001b[0m\u001b[0mX_test\u001b[0m\u001b[0;34m)\u001b[0m\u001b[0;34m.\u001b[0m\u001b[0mastype\u001b[0m\u001b[0;34m(\u001b[0m\u001b[0;34m'float32'\u001b[0m\u001b[0;34m)\u001b[0m\u001b[0;34m\u001b[0m\u001b[0;34m\u001b[0m\u001b[0m\n\u001b[1;32m      3\u001b[0m \u001b[0mfeature_size\u001b[0m \u001b[0;34m=\u001b[0m \u001b[0mX_train\u001b[0m\u001b[0;34m.\u001b[0m\u001b[0mshape\u001b[0m\u001b[0;34m[\u001b[0m\u001b[0;36m1\u001b[0m\u001b[0;34m]\u001b[0m\u001b[0;34m\u001b[0m\u001b[0;34m\u001b[0m\u001b[0m\n",
            "\u001b[0;31mNameError\u001b[0m: name 'np' is not defined"
          ]
        }
      ]
    },
    {
      "cell_type": "code",
      "metadata": {
        "id": "j1MCiO1k3cwA"
      },
      "source": [
        "# estimators = []\n",
        "# estimators.append(('standardize', StandardScaler()))\n",
        "# estimators.append(('mlp', KerasRegressor(build_fn=baseline_model, epochs=50, batch_size=5, verbose=1)))\n",
        "# pipeline = Pipeline(estimators)\n",
        "# kfold = KFold(n_splits=2)\n",
        "# results = cross_val_score(pipeline, X_train, y_train, cv=kfold)\n",
        "# print(\"Baseline: %.2f (%.2f) MSE\" % (np.sqrt(np.abs(results.mean())), np.sqrt(results.std())))\n",
        "\n",
        "estimator = KerasRegressor(build_fn=baseline_model, epochs=50, batch_size=50, verbose=1)\n",
        "kfold = KFold(n_splits=3)\n",
        "results = cross_val_score(estimator, X_train, y_train, cv=kfold)\n",
        "print(\"Baseline: %.2f (%.2f) MSE\" % (results.mean(), results.std()))"
      ],
      "execution_count": null,
      "outputs": []
    },
    {
      "cell_type": "code",
      "metadata": {
        "id": "FBhfJgKOIp0e"
      },
      "source": [
        "from sklearn.model_selection import GridSearchCV\n",
        "model = KerasRegressor(build_fn=baseline_model, verbose=1)\n",
        "batch_size = [100, 200, 400, 1000]\n",
        "epochs = [10, 50, 100,300]\n",
        "param_grid = dict(batch_size=batch_size, epochs=epochs)\n",
        "grid = GridSearchCV(estimator=model, param_grid=param_grid,scoring='neg_mean_squared_error',verbose = 1)\n",
        "grid_result = grid.fit(X_train, y_train)\n",
        "print(\"Best: %f using %s\" % (grid_result.best_score_, grid_result.best_params_))\n",
        "means = grid_result.cv_results_['mean_test_score']\n",
        "stds = grid_result.cv_results_['std_test_score']\n",
        "params = grid_result.cv_results_['params']\n",
        "for mean, stdev, param in zip(means, stds, params):\n",
        "    print(\"%f (%f) with: %r\" % (mean, stdev, param))\n"
      ],
      "execution_count": null,
      "outputs": []
    },
    {
      "cell_type": "code",
      "metadata": {
        "id": "i5VgWtUJ1TKA"
      },
      "source": [
        "model = KerasRegressor(build_fn=baseline_model, verbose=1, epochs=300, batch_size=400)\n",
        "l1 = [60, 100, 200]\n",
        "l2 = [30, 50 ,100]\n",
        "param_grid = dict(l1=l1, l2=l2)\n",
        "grid = GridSearchCV(estimator=model, param_grid=param_grid,scoring='neg_mean_squared_error', cv=2)\n",
        "grid_result = grid.fit(X_train, y_train)\n",
        "print(\"Best: %f using %s\" % (grid_result.best_score_, grid_result.best_params_))\n",
        "means = grid_result.cv_results_['mean_test_score']\n",
        "stds = grid_result.cv_results_['std_test_score']\n",
        "params = grid_result.cv_results_['params']\n",
        "for mean, stdev, param in zip(means, stds, params):\n",
        "    print(\"%f (%f) with: %r\" % (mean, stdev, param))"
      ],
      "execution_count": null,
      "outputs": []
    },
    {
      "cell_type": "code",
      "metadata": {
        "id": "WlOzvK2Gy0qr"
      },
      "source": [
        "def baseline_model():\n",
        "\t  # create model\n",
        "  model = Sequential()\n",
        "  model = Sequential()\n",
        "  model.add(Dense(200, input_dim=feature_size, kernel_initializer='normal', activation='relu'))\n",
        "  model.add(Dense(50, input_dim=200, kernel_initializer='normal', activation='relu'))\n",
        "  model.add(Dense(1, activation='relu'))\n",
        "  # Compile model\n",
        "  #optimizer = keras.optimizers.SGD(learning_rate=0.01, momentum=0.9)\n",
        "\n",
        "  model.compile(loss='mean_absolute_error', optimizer='adamax')\n",
        "  return model\n",
        "estimator = KerasRegressor(build_fn=baseline_model, epochs=300, batch_size=400, verbose=1)\n",
        "estimator.fit(X_train, y_train)\n",
        "\n"
      ],
      "execution_count": null,
      "outputs": []
    },
    {
      "cell_type": "code",
      "metadata": {
        "id": "LU7FxiiKtsP1"
      },
      "source": [
        "preds = estimator.predict(X_test)"
      ],
      "execution_count": null,
      "outputs": []
    },
    {
      "cell_type": "code",
      "metadata": {
        "id": "UpgVZgLUIxUB"
      },
      "source": [
        "np.sqrt(mean_squared_error(y_test, preds))"
      ],
      "execution_count": null,
      "outputs": []
    },
    {
      "cell_type": "code",
      "metadata": {
        "id": "db_16ot3nh1R"
      },
      "source": [
        "from matplotlib import pyplot as plt\n",
        "\n",
        "plt.figure(figsize=(10,10))\n",
        "plt.scatter(y_test, preds, c='crimson')\n",
        "\n",
        "\n",
        "p1 = max(max(preds), max(y_test))\n",
        "p2 = min(min(preds), min(y_test))\n",
        "plt.plot([p1, p2], [p1, p2], 'b-')\n",
        "plt.xlabel('True Values', fontsize=15)\n",
        "plt.ylabel('Predictions', fontsize=15)\n",
        "plt.axis('equal')\n",
        "plt.show()"
      ],
      "execution_count": null,
      "outputs": []
    },
    {
      "cell_type": "markdown",
      "metadata": {
        "id": "AywFedLpGTN7"
      },
      "source": [
        "# Step 3: Train the model"
      ]
    },
    {
      "cell_type": "markdown",
      "metadata": {
        "id": "6u2k97lNGYsR"
      },
      "source": [
        "## Validation against existing sales"
      ]
    },
    {
      "cell_type": "markdown",
      "metadata": {
        "id": "vdN6Z9FtGhbz"
      },
      "source": [
        "## Compare accuracy and analysis"
      ]
    },
    {
      "cell_type": "markdown",
      "metadata": {
        "id": "vCI09jyJGnhE"
      },
      "source": [
        "## Fine Tuning the models"
      ]
    },
    {
      "cell_type": "markdown",
      "metadata": {
        "id": "SxZv1EM_GsJg"
      },
      "source": [
        "## Regularization"
      ]
    },
    {
      "cell_type": "markdown",
      "metadata": {
        "id": "ffOyOT2dG0Ce"
      },
      "source": [
        "# Step 4: Evaluate, Select and Deploy the Model"
      ]
    },
    {
      "cell_type": "markdown",
      "metadata": {
        "id": "kkd4DNVLG8oM"
      },
      "source": [
        "\n",
        "\n",
        "```\n",
        "# This is formatted as code\n",
        "```\n",
        "\n",
        "# Step 5: Visualisation"
      ]
    }
  ]
}