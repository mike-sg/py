{
  "nbformat": 4,
  "nbformat_minor": 0,
  "metadata": {
    "colab": {
      "name": "lt13.ipynb",
      "provenance": [],
      "collapsed_sections": [],
      "authorship_tag": "ABX9TyP9TLP+KtH+IukAc2NbRlVA",
      "include_colab_link": true
    },
    "kernelspec": {
      "name": "python3",
      "display_name": "Python 3"
    }
  },
  "cells": [
    {
      "cell_type": "markdown",
      "metadata": {
        "id": "view-in-github",
        "colab_type": "text"
      },
      "source": [
        "<a href=\"https://colab.research.google.com/github/mike-sg/py/blob/main/lt13.ipynb\" target=\"_parent\"><img src=\"https://colab.research.google.com/assets/colab-badge.svg\" alt=\"Open In Colab\"/></a>"
      ]
    },
    {
      "cell_type": "markdown",
      "metadata": {
        "id": "qojbDDDz0mdA"
      },
      "source": [
        "Step 1: import libraries."
      ]
    },
    {
      "cell_type": "code",
      "metadata": {
        "colab": {
          "base_uri": "https://localhost:8080/"
        },
        "id": "HkKCS69uwiCE",
        "outputId": "8e145b6d-c972-4870-d256-b83f900905ab"
      },
      "source": [
        "import pylab, random\r\n",
        "print('loaded libs.')\r\n",
        "pylab.rcParams['lines.linewidth']    = 4    #set line width\r\n",
        "pylab.rcParams['axes.titlesize']     = 20   #set font size for titles\r\n",
        "pylab.rcParams['axes.labelsize']     = 16   #set font size for labels on axes\r\n",
        "pylab.rcParams['xtick.labelsize']    = 16   #set size of numbers on x-axis\r\n",
        "pylab.rcParams['ytick.labelsize']    = 16   #set size of numbers on y-axis\r\n",
        "pylab.rcParams['xtick.major.size']   = 7    #set size of ticks on x-axis\r\n",
        "pylab.rcParams['ytick.major.size']   = 7    #set size of ticks on y-axis\r\n",
        "pylab.rcParams['lines.markersize']   = 10   #set of markers \r\n",
        "pylab.rcParams['legend.numpoints']   = 1    # set number of examples shown in legends.\r\n",
        "\r\n"
      ],
      "execution_count": 2,
      "outputs": [
        {
          "output_type": "stream",
          "text": [
            "loaded libs.\n"
          ],
          "name": "stdout"
        }
      ]
    },
    {
      "cell_type": "markdown",
      "metadata": {
        "id": "8qVicQpn0Vqp"
      },
      "source": [
        "Step 2: define utility functions."
      ]
    },
    {
      "cell_type": "code",
      "metadata": {
        "colab": {
          "base_uri": "https://localhost:8080/"
        },
        "id": "dizTkaUd3AYS",
        "outputId": "8c96cef6-4c64-4ea7-e271-29a42d68e8d5"
      },
      "source": [
        "def minkowskiDist(v1, v2, p):\r\n",
        "  \"\"\"assume v1 and v2 are equal-length arrays of numbers\r\n",
        "     returns Minkowski distance of order p between v1 and v2\"\"\"\r\n",
        "  dist = 0.0\r\n",
        "  for i in range(len(v1)):\r\n",
        "    dist += abs(v1[i] - v2[i])**p\r\n",
        "  \r\n",
        "  return dist**(1/p)\r\n",
        "\r\n",
        "class Animal(object):\r\n",
        "  def __init__(slef, name, features):\r\n",
        "    \"\"\"assume name: string; features: a list of numbers\"\"\"\r\n",
        "    self.name        = name\r\n",
        "    self.features    = features\r\n",
        "\r\n",
        "  def getName(self):\r\n",
        "    return self.name\r\n",
        "\r\n",
        "  def getFeatures(self):\r\n",
        "    return self.features\r\n",
        "\r\n",
        "  def distance(self, other):\r\n",
        "    \"\"\"assumes other: is an Animal\r\n",
        "       returns the Euclidean distance between feature vectors of self and the \r\n",
        "       other Animal\"\"\"\r\n",
        "\r\n",
        "    return minkowskiDist(self.getFeatures(), other.getFeatures(), 2)\r\n",
        "\r\n",
        "  def __str__(self):\r\n",
        "    return self.name\r\n",
        "\r\n",
        "  \r\n",
        "print('Utilities end.')\r\n",
        "\r\n"
      ],
      "execution_count": 7,
      "outputs": [
        {
          "output_type": "stream",
          "text": [
            "Utilities end.\n"
          ],
          "name": "stdout"
        }
      ]
    },
    {
      "cell_type": "code",
      "metadata": {
        "id": "97_BzxHm4Olr"
      },
      "source": [
        ""
      ],
      "execution_count": null,
      "outputs": []
    }
  ]
}